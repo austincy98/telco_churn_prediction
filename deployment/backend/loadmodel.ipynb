{
 "cells": [
  {
   "cell_type": "code",
   "execution_count": null,
   "metadata": {},
   "outputs": [],
   "source": [
    "import pickle\n",
    "\n",
    "with open(\"preprocessing.pkl\", \"rb\") as f:\n",
    "    pipe_pre = pickle.load(f)"
   ]
  },
  {
   "cell_type": "code",
   "execution_count": 1,
   "metadata": {},
   "outputs": [
    {
     "data": {
      "text/plain": [
       "{'code': 200, 'result': {'classes': 'No', 'prediction': '[0]'}, 'status': 'OK'}"
      ]
     },
     "execution_count": 1,
     "metadata": {},
     "output_type": "execute_result"
    }
   ],
   "source": [
    "import requests\n",
    "\n",
    "URL='http://127.0.0.1:5000/predict'\n",
    "data={'tenure':6, 'MonthlyCharges' :50.80, 'TotalCharges' : 288.05, 'gender' :'Female',\n",
    "      'SeniorCitizen' :0,'Partner' : 'No',\n",
    "                    'Dependents':'No',\n",
    "                    'PhoneService': 'Yes',\n",
    "                    'MultipleLines':'No',\n",
    "                    'InternetService':'DSL',\n",
    "                    'OnlineSecurity':'No',\n",
    "                    'OnlineBackup':'No',\n",
    "                    'DeviceProtection':'No',\n",
    "                    'TechSupport':'Yes',\n",
    "                    'StreamingTV':'No',\n",
    "                    'StreamingMovies':'No',\n",
    "                    'Contract':'Month-to-month',\n",
    "                    'PaperlessBilling':'Yes',\n",
    "                    'PaymentMethod':'Bank transfer (automatic)'}\n",
    "r=requests.post(URL, json=data)\n",
    "data=r.json()\n",
    "data"
   ]
  }
 ],
 "metadata": {
  "kernelspec": {
   "display_name": "Python 3.9.7 ('base')",
   "language": "python",
   "name": "python3"
  },
  "language_info": {
   "codemirror_mode": {
    "name": "ipython",
    "version": 3
   },
   "file_extension": ".py",
   "mimetype": "text/x-python",
   "name": "python",
   "nbconvert_exporter": "python",
   "pygments_lexer": "ipython3",
   "version": "3.9.7"
  },
  "orig_nbformat": 4,
  "vscode": {
   "interpreter": {
    "hash": "bdf32d5e231b9a331535de97a3bdc2d904defd3eac6aa0299a6b1d1872e28962"
   }
  }
 },
 "nbformat": 4,
 "nbformat_minor": 2
}
